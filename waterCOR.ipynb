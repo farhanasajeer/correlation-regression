{
  "nbformat": 4,
  "nbformat_minor": 0,
  "metadata": {
    "colab": {
      "name": "waterCOR.ipynb",
      "provenance": []
    },
    "kernelspec": {
      "name": "python3",
      "display_name": "Python 3"
    },
    "language_info": {
      "name": "python"
    }
  },
  "cells": [
    {
      "cell_type": "code",
      "execution_count": 1,
      "metadata": {
        "id": "BSu7_NwHA8Vv"
      },
      "outputs": [],
      "source": [
        "import pandas as pd\n",
        "import numpy as np\n",
        "import matplotlib.pyplot as plt\n",
        "import seaborn as sns"
      ]
    },
    {
      "cell_type": "code",
      "source": [
        "data=pd.read_csv('/content/drive/MyDrive/water_potability.csv')"
      ],
      "metadata": {
        "id": "eylnm2d0BEag"
      },
      "execution_count": 2,
      "outputs": []
    },
    {
      "cell_type": "code",
      "source": [
        "data.head()"
      ],
      "metadata": {
        "colab": {
          "base_uri": "https://localhost:8080/",
          "height": 206
        },
        "id": "g-q33FUxBYHC",
        "outputId": "de55779f-6acb-4c47-873f-2e6c116b1c62"
      },
      "execution_count": 3,
      "outputs": [
        {
          "output_type": "execute_result",
          "data": {
            "text/html": [
              "\n",
              "  <div id=\"df-1d8efbe9-be93-4afd-b3ba-ea9e957d282b\">\n",
              "    <div class=\"colab-df-container\">\n",
              "      <div>\n",
              "<style scoped>\n",
              "    .dataframe tbody tr th:only-of-type {\n",
              "        vertical-align: middle;\n",
              "    }\n",
              "\n",
              "    .dataframe tbody tr th {\n",
              "        vertical-align: top;\n",
              "    }\n",
              "\n",
              "    .dataframe thead th {\n",
              "        text-align: right;\n",
              "    }\n",
              "</style>\n",
              "<table border=\"1\" class=\"dataframe\">\n",
              "  <thead>\n",
              "    <tr style=\"text-align: right;\">\n",
              "      <th></th>\n",
              "      <th>ph</th>\n",
              "      <th>Hardness</th>\n",
              "      <th>Solids</th>\n",
              "      <th>Chloramines</th>\n",
              "      <th>Sulfate</th>\n",
              "      <th>Conductivity</th>\n",
              "      <th>Organic_carbon</th>\n",
              "      <th>Trihalomethanes</th>\n",
              "      <th>Turbidity</th>\n",
              "      <th>Potability</th>\n",
              "    </tr>\n",
              "  </thead>\n",
              "  <tbody>\n",
              "    <tr>\n",
              "      <th>0</th>\n",
              "      <td>NaN</td>\n",
              "      <td>204.890455</td>\n",
              "      <td>20791.318981</td>\n",
              "      <td>7.300212</td>\n",
              "      <td>368.516441</td>\n",
              "      <td>564.308654</td>\n",
              "      <td>10.379783</td>\n",
              "      <td>86.990970</td>\n",
              "      <td>2.963135</td>\n",
              "      <td>0</td>\n",
              "    </tr>\n",
              "    <tr>\n",
              "      <th>1</th>\n",
              "      <td>3.716080</td>\n",
              "      <td>129.422921</td>\n",
              "      <td>18630.057858</td>\n",
              "      <td>6.635246</td>\n",
              "      <td>NaN</td>\n",
              "      <td>592.885359</td>\n",
              "      <td>15.180013</td>\n",
              "      <td>56.329076</td>\n",
              "      <td>4.500656</td>\n",
              "      <td>0</td>\n",
              "    </tr>\n",
              "    <tr>\n",
              "      <th>2</th>\n",
              "      <td>8.099124</td>\n",
              "      <td>224.236259</td>\n",
              "      <td>19909.541732</td>\n",
              "      <td>9.275884</td>\n",
              "      <td>NaN</td>\n",
              "      <td>418.606213</td>\n",
              "      <td>16.868637</td>\n",
              "      <td>66.420093</td>\n",
              "      <td>3.055934</td>\n",
              "      <td>0</td>\n",
              "    </tr>\n",
              "    <tr>\n",
              "      <th>3</th>\n",
              "      <td>8.316766</td>\n",
              "      <td>214.373394</td>\n",
              "      <td>22018.417441</td>\n",
              "      <td>8.059332</td>\n",
              "      <td>356.886136</td>\n",
              "      <td>363.266516</td>\n",
              "      <td>18.436524</td>\n",
              "      <td>100.341674</td>\n",
              "      <td>4.628771</td>\n",
              "      <td>0</td>\n",
              "    </tr>\n",
              "    <tr>\n",
              "      <th>4</th>\n",
              "      <td>9.092223</td>\n",
              "      <td>181.101509</td>\n",
              "      <td>17978.986339</td>\n",
              "      <td>6.546600</td>\n",
              "      <td>310.135738</td>\n",
              "      <td>398.410813</td>\n",
              "      <td>11.558279</td>\n",
              "      <td>31.997993</td>\n",
              "      <td>4.075075</td>\n",
              "      <td>0</td>\n",
              "    </tr>\n",
              "  </tbody>\n",
              "</table>\n",
              "</div>\n",
              "      <button class=\"colab-df-convert\" onclick=\"convertToInteractive('df-1d8efbe9-be93-4afd-b3ba-ea9e957d282b')\"\n",
              "              title=\"Convert this dataframe to an interactive table.\"\n",
              "              style=\"display:none;\">\n",
              "        \n",
              "  <svg xmlns=\"http://www.w3.org/2000/svg\" height=\"24px\"viewBox=\"0 0 24 24\"\n",
              "       width=\"24px\">\n",
              "    <path d=\"M0 0h24v24H0V0z\" fill=\"none\"/>\n",
              "    <path d=\"M18.56 5.44l.94 2.06.94-2.06 2.06-.94-2.06-.94-.94-2.06-.94 2.06-2.06.94zm-11 1L8.5 8.5l.94-2.06 2.06-.94-2.06-.94L8.5 2.5l-.94 2.06-2.06.94zm10 10l.94 2.06.94-2.06 2.06-.94-2.06-.94-.94-2.06-.94 2.06-2.06.94z\"/><path d=\"M17.41 7.96l-1.37-1.37c-.4-.4-.92-.59-1.43-.59-.52 0-1.04.2-1.43.59L10.3 9.45l-7.72 7.72c-.78.78-.78 2.05 0 2.83L4 21.41c.39.39.9.59 1.41.59.51 0 1.02-.2 1.41-.59l7.78-7.78 2.81-2.81c.8-.78.8-2.07 0-2.86zM5.41 20L4 18.59l7.72-7.72 1.47 1.35L5.41 20z\"/>\n",
              "  </svg>\n",
              "      </button>\n",
              "      \n",
              "  <style>\n",
              "    .colab-df-container {\n",
              "      display:flex;\n",
              "      flex-wrap:wrap;\n",
              "      gap: 12px;\n",
              "    }\n",
              "\n",
              "    .colab-df-convert {\n",
              "      background-color: #E8F0FE;\n",
              "      border: none;\n",
              "      border-radius: 50%;\n",
              "      cursor: pointer;\n",
              "      display: none;\n",
              "      fill: #1967D2;\n",
              "      height: 32px;\n",
              "      padding: 0 0 0 0;\n",
              "      width: 32px;\n",
              "    }\n",
              "\n",
              "    .colab-df-convert:hover {\n",
              "      background-color: #E2EBFA;\n",
              "      box-shadow: 0px 1px 2px rgba(60, 64, 67, 0.3), 0px 1px 3px 1px rgba(60, 64, 67, 0.15);\n",
              "      fill: #174EA6;\n",
              "    }\n",
              "\n",
              "    [theme=dark] .colab-df-convert {\n",
              "      background-color: #3B4455;\n",
              "      fill: #D2E3FC;\n",
              "    }\n",
              "\n",
              "    [theme=dark] .colab-df-convert:hover {\n",
              "      background-color: #434B5C;\n",
              "      box-shadow: 0px 1px 3px 1px rgba(0, 0, 0, 0.15);\n",
              "      filter: drop-shadow(0px 1px 2px rgba(0, 0, 0, 0.3));\n",
              "      fill: #FFFFFF;\n",
              "    }\n",
              "  </style>\n",
              "\n",
              "      <script>\n",
              "        const buttonEl =\n",
              "          document.querySelector('#df-1d8efbe9-be93-4afd-b3ba-ea9e957d282b button.colab-df-convert');\n",
              "        buttonEl.style.display =\n",
              "          google.colab.kernel.accessAllowed ? 'block' : 'none';\n",
              "\n",
              "        async function convertToInteractive(key) {\n",
              "          const element = document.querySelector('#df-1d8efbe9-be93-4afd-b3ba-ea9e957d282b');\n",
              "          const dataTable =\n",
              "            await google.colab.kernel.invokeFunction('convertToInteractive',\n",
              "                                                     [key], {});\n",
              "          if (!dataTable) return;\n",
              "\n",
              "          const docLinkHtml = 'Like what you see? Visit the ' +\n",
              "            '<a target=\"_blank\" href=https://colab.research.google.com/notebooks/data_table.ipynb>data table notebook</a>'\n",
              "            + ' to learn more about interactive tables.';\n",
              "          element.innerHTML = '';\n",
              "          dataTable['output_type'] = 'display_data';\n",
              "          await google.colab.output.renderOutput(dataTable, element);\n",
              "          const docLink = document.createElement('div');\n",
              "          docLink.innerHTML = docLinkHtml;\n",
              "          element.appendChild(docLink);\n",
              "        }\n",
              "      </script>\n",
              "    </div>\n",
              "  </div>\n",
              "  "
            ],
            "text/plain": [
              "         ph    Hardness        Solids  ...  Trihalomethanes  Turbidity  Potability\n",
              "0       NaN  204.890455  20791.318981  ...        86.990970   2.963135           0\n",
              "1  3.716080  129.422921  18630.057858  ...        56.329076   4.500656           0\n",
              "2  8.099124  224.236259  19909.541732  ...        66.420093   3.055934           0\n",
              "3  8.316766  214.373394  22018.417441  ...       100.341674   4.628771           0\n",
              "4  9.092223  181.101509  17978.986339  ...        31.997993   4.075075           0\n",
              "\n",
              "[5 rows x 10 columns]"
            ]
          },
          "metadata": {},
          "execution_count": 3
        }
      ]
    },
    {
      "cell_type": "code",
      "source": [
        "data.isna().sum()"
      ],
      "metadata": {
        "colab": {
          "base_uri": "https://localhost:8080/"
        },
        "id": "vYfeXW37Bawd",
        "outputId": "04f4f2ac-c2c8-4607-8b63-06fa9a718f0a"
      },
      "execution_count": 4,
      "outputs": [
        {
          "output_type": "execute_result",
          "data": {
            "text/plain": [
              "ph                 491\n",
              "Hardness             0\n",
              "Solids               0\n",
              "Chloramines          0\n",
              "Sulfate            781\n",
              "Conductivity         0\n",
              "Organic_carbon       0\n",
              "Trihalomethanes    162\n",
              "Turbidity            0\n",
              "Potability           0\n",
              "dtype: int64"
            ]
          },
          "metadata": {},
          "execution_count": 4
        }
      ]
    },
    {
      "cell_type": "code",
      "source": [
        "for i in['ph','Sulfate','Trihalomethanes']:\n",
        "  data[i]=data[i].fillna(data[i].median())\n",
        "data.isna().sum()"
      ],
      "metadata": {
        "colab": {
          "base_uri": "https://localhost:8080/"
        },
        "id": "0pVVoia9Bell",
        "outputId": "672095ab-b630-4a98-a49b-9fca0d3bef43"
      },
      "execution_count": 5,
      "outputs": [
        {
          "output_type": "execute_result",
          "data": {
            "text/plain": [
              "ph                 0\n",
              "Hardness           0\n",
              "Solids             0\n",
              "Chloramines        0\n",
              "Sulfate            0\n",
              "Conductivity       0\n",
              "Organic_carbon     0\n",
              "Trihalomethanes    0\n",
              "Turbidity          0\n",
              "Potability         0\n",
              "dtype: int64"
            ]
          },
          "metadata": {},
          "execution_count": 5
        }
      ]
    },
    {
      "cell_type": "code",
      "source": [
        "# find the correlation using corr function\n",
        "\n",
        "corrmatrix=data.corr()\n",
        "plt.subplots(figsize=(10,4))\n",
        "sns.heatmap(corrmatrix, vmin=2, vmax=1, annot=True,linewidths=0.2,cmap='YlGnBu')"
      ],
      "metadata": {
        "colab": {
          "base_uri": "https://localhost:8080/",
          "height": 359
        },
        "id": "MbhQmfeyBtER",
        "outputId": "ce6d8bc2-972b-4237-8411-b384f90b380c"
      },
      "execution_count": 6,
      "outputs": [
        {
          "output_type": "execute_result",
          "data": {
            "text/plain": [
              "<matplotlib.axes._subplots.AxesSubplot at 0x7f94c4e54890>"
            ]
          },
          "metadata": {},
          "execution_count": 6
        },
        {
          "output_type": "display_data",
          "data": {
            "image/png": "[encoded data removed]",
            "text/plain": [
              "<Figure size 720x288 with 2 Axes>"
            ]
          },
          "metadata": {
            "needs_background": "light"
          }
        }
      ]
    },
    {
      "cell_type": "code",
      "source": [
        "data.columns"
      ],
      "metadata": {
        "colab": {
          "base_uri": "https://localhost:8080/"
        },
        "id": "trnVRUsDB1GF",
        "outputId": "d36bc86c-6597-46a5-b10d-e8064e8a31a2"
      },
      "execution_count": 7,
      "outputs": [
        {
          "output_type": "execute_result",
          "data": {
            "text/plain": [
              "Index(['ph', 'Hardness', 'Solids', 'Chloramines', 'Sulfate', 'Conductivity',\n",
              "       'Organic_carbon', 'Trihalomethanes', 'Turbidity', 'Potability'],\n",
              "      dtype='object')"
            ]
          },
          "metadata": {},
          "execution_count": 7
        }
      ]
    },
    {
      "cell_type": "code",
      "source": [
        "x=data.drop('Hardness',axis=1)\n",
        "y=data['Hardness']"
      ],
      "metadata": {
        "id": "eCEL6rKUCC3O"
      },
      "execution_count": 8,
      "outputs": []
    },
    {
      "cell_type": "code",
      "source": [
        "from sklearn.model_selection import train_test_split\n",
        "x_train,x_test,y_train,y_test=train_test_split(x,y,random_state=42,test_size=0.25)"
      ],
      "metadata": {
        "id": "fh8O8-B7CMJB"
      },
      "execution_count": 9,
      "outputs": []
    },
    {
      "cell_type": "code",
      "source": [
        "# make linear regression model\n",
        "from sklearn import linear_model\n",
        "# create instance of the model\n",
        "lr=linear_model.LinearRegression()\n",
        "# now fitting the instance created to the training data and creating the linear regression model and store into another variable\n",
        "model=lr.fit(x_train,y_train)"
      ],
      "metadata": {
        "id": "5DtBUABiCQKq"
      },
      "execution_count": 10,
      "outputs": []
    },
    {
      "cell_type": "code",
      "source": [
        "# predict the output\n",
        "predictions=model.predict(x_test)"
      ],
      "metadata": {
        "id": "6mcMtS6TCTSo"
      },
      "execution_count": 11,
      "outputs": []
    },
    {
      "cell_type": "code",
      "source": [
        "print(y_test)"
      ],
      "metadata": {
        "colab": {
          "base_uri": "https://localhost:8080/"
        },
        "id": "F2qv5RgjCWW2",
        "outputId": "9c51501b-7477-4358-8445-43590328f7fd"
      },
      "execution_count": 12,
      "outputs": [
        {
          "output_type": "stream",
          "name": "stdout",
          "text": [
            "2947    183.521107\n",
            "2782    188.913541\n",
            "1644    224.058877\n",
            "70      183.089310\n",
            "2045    179.240661\n",
            "           ...    \n",
            "2580    190.551572\n",
            "2627    217.944979\n",
            "2246    229.174987\n",
            "7       203.361523\n",
            "3132    185.909303\n",
            "Name: Hardness, Length: 819, dtype: float64\n"
          ]
        }
      ]
    },
    {
      "cell_type": "code",
      "source": [
        "print(predictions)"
      ],
      "metadata": {
        "colab": {
          "base_uri": "https://localhost:8080/"
        },
        "id": "_Wc3Csn0CaXu",
        "outputId": "baa708da-ae61-499b-ecf0-375444757b24"
      },
      "execution_count": 13,
      "outputs": [
        {
          "output_type": "stream",
          "name": "stdout",
          "text": [
            "[197.50862067 192.9823283  202.52838319 208.58264467 192.44645789\n",
            " 201.05805036 192.75003963 200.16808983 198.55944151 192.91197173\n",
            " 200.0573709  196.85839766 204.73477937 197.54822144 202.20273527\n",
            " 187.88790318 199.1005375  191.44547681 200.88102476 200.66312151\n",
            " 195.39868789 199.7377508  198.49019712 193.06384209 196.20455321\n",
            " 198.57744711 198.19461669 195.98772439 194.33455073 195.71754481\n",
            " 210.1178145  202.77748246 190.41991206 195.7735156  188.75303066\n",
            " 191.11886917 197.3943906  194.38614965 193.97664237 198.36098264\n",
            " 195.8630239  196.44806956 185.20716616 199.08569087 200.79241636\n",
            " 202.09653893 195.78739047 198.30076679 194.27848557 192.40275764\n",
            " 201.21812724 201.45518902 197.84156677 195.28545689 186.8170608\n",
            " 186.30749779 193.51557057 198.51113812 193.1924321  193.9632953\n",
            " 203.51734872 200.11361774 199.91392789 202.19861639 200.25543242\n",
            " 192.64602256 202.91395738 183.71595663 197.30885244 191.77229013\n",
            " 196.42953203 194.94564021 197.9103275  198.44649353 200.81533376\n",
            " 196.59310769 201.59711695 199.94990135 189.82964533 198.02105327\n",
            " 199.55017815 193.91491308 201.21766147 197.0752936  196.34815197\n",
            " 204.77720311 191.10613803 198.76230022 207.17329435 192.89821103\n",
            " 199.02918395 192.71444    193.6804101  205.51722196 197.35469379\n",
            " 199.40383462 196.99013138 197.59888912 201.2447009  195.10401431\n",
            " 197.32662116 189.46774226 188.33364718 203.59061793 204.29058874\n",
            " 191.17697467 185.7463705  204.34975041 191.6773709  204.36776269\n",
            " 197.81175663 194.55773997 192.24927689 192.79764348 203.01815623\n",
            " 189.56664975 200.80419671 199.70790286 195.14490353 203.89351928\n",
            " 192.76434089 196.23741074 201.71669918 195.15555232 195.59979228\n",
            " 193.94598924 201.09344142 187.17812853 199.42812092 202.73263562\n",
            " 194.84021788 192.68928916 195.51887051 201.87493634 192.70067694\n",
            " 199.68217658 202.13545754 194.59199307 203.87241835 196.63117835\n",
            " 193.07490159 202.6120918  196.92318988 195.01465544 188.98131774\n",
            " 196.84838851 190.7552888  198.1834651  198.30173512 194.42872618\n",
            " 199.48283833 197.74748256 195.31614522 195.30088704 199.59660262\n",
            " 198.81845412 196.1547021  196.49809256 196.20730287 201.72309682\n",
            " 196.83069185 197.02523762 199.05081408 197.56036378 188.61395268\n",
            " 205.11193141 210.91681333 181.86889951 195.36198982 197.3205358\n",
            " 199.02029442 196.7249942  203.81090342 198.73475205 185.2893547\n",
            " 193.3718791  192.34716977 198.52315637 180.29138127 202.98937483\n",
            " 192.95306309 199.9781794  197.38976656 194.90766797 191.59851476\n",
            " 195.55128651 194.49739477 197.02125389 198.82663285 199.09988182\n",
            " 189.84101993 200.42393783 199.26550075 197.96519714 194.9241506\n",
            " 211.03584008 193.24112481 192.0762314  198.04296794 210.18922422\n",
            " 198.55289483 202.10297768 198.47139509 196.97076671 198.27867713\n",
            " 204.62610516 194.49759592 188.47601389 185.53843889 196.03304982\n",
            " 206.99550411 184.28649244 194.79760019 199.11225125 190.54574767\n",
            " 177.32209438 202.51929024 196.3852599  191.9057812  188.00760063\n",
            " 202.32526839 202.38920317 200.17072938 194.11457174 189.27308341\n",
            " 199.56411911 197.52658459 197.67033277 199.0385535  186.90915185\n",
            " 199.92094802 198.00791213 198.43045471 185.47602646 202.81122329\n",
            " 195.81630428 207.6394564  187.73564074 194.25685188 196.56901603\n",
            " 194.16842552 198.20787668 193.17519106 192.67323205 193.89166944\n",
            " 193.90084965 190.9928772  196.9266898  195.48984457 193.00054611\n",
            " 196.53296344 196.22437745 192.95971307 197.47003936 199.1862128\n",
            " 198.79129478 202.09665278 192.91187463 197.9479723  195.84778607\n",
            " 188.891625   186.98557601 195.42674951 186.64925966 194.36747082\n",
            " 198.32317985 187.80903359 195.8874917  193.08252131 194.08747248\n",
            " 200.60648622 191.5190079  205.04717708 198.19290819 190.2008704\n",
            " 200.09871586 193.51362665 206.43394671 193.14180825 193.70714286\n",
            " 202.95123245 198.56300497 194.50283164 198.27301021 198.15515996\n",
            " 188.17990572 197.76213017 197.7881284  190.74515567 197.3591414\n",
            " 192.30728275 186.89074842 192.00902345 193.50017983 195.44329084\n",
            " 195.53036659 199.29609992 202.64124827 200.997665   207.57102653\n",
            " 204.51096219 187.56199786 194.68453133 198.17486844 198.66238249\n",
            " 195.28294559 198.65578733 199.77257528 182.12795752 198.85358052\n",
            " 193.57002235 194.44076433 192.75873837 199.17547295 194.37258113\n",
            " 199.65535709 192.50166269 198.93134388 197.2779556  196.62145147\n",
            " 198.16297748 197.25019526 197.09921243 202.21888324 186.74535049\n",
            " 194.52902201 200.01327255 200.82386576 194.6781982  195.66644247\n",
            " 197.02492433 199.21108942 198.91413771 194.62231235 200.71715617\n",
            " 189.53255105 190.52411353 196.10425701 200.5676872  203.15444613\n",
            " 196.40455325 197.20336001 193.01322428 200.07923781 203.66042973\n",
            " 205.04837926 197.65389423 202.58242508 195.84299711 194.15425879\n",
            " 194.00863141 199.78183462 191.14203749 200.29434046 190.52971641\n",
            " 182.32927773 207.19998529 200.55384041 200.0442739  199.09314165\n",
            " 197.72446214 181.76855027 196.30651798 196.61741905 196.00919207\n",
            " 193.95716605 193.97951916 189.77366542 195.35449841 197.91897353\n",
            " 201.26801855 195.94848747 203.6372019  200.23872183 199.69998154\n",
            " 194.07953361 192.46968677 200.86559453 197.26406802 191.25919887\n",
            " 199.64127297 191.87713543 196.93824419 200.38372846 194.08891208\n",
            " 206.70851648 197.7628941  196.82392718 197.14650523 193.7598207\n",
            " 193.37587303 194.07552344 200.01130428 203.97829156 190.36881019\n",
            " 197.95587444 198.1128002  198.46519156 191.76532914 198.83135998\n",
            " 199.46491632 193.01434062 195.09230521 194.92988419 191.59541499\n",
            " 193.57388913 207.58833631 198.48470305 187.57390111 197.26657942\n",
            " 197.97957791 197.96897574 198.06514409 194.75324591 206.04447412\n",
            " 200.04348835 201.5277809  194.05400861 185.68961023 197.63171403\n",
            " 195.84716568 201.01439419 196.29025839 202.3546918  195.99202515\n",
            " 196.04559556 209.46516511 197.23708975 200.74053644 194.42598382\n",
            " 201.10006906 197.41140326 201.97655674 202.63959979 203.03268981\n",
            " 191.45105798 202.16157541 202.74997453 193.27859536 190.2226298\n",
            " 198.15656746 204.13695819 186.63457634 193.92631574 194.73614128\n",
            " 196.16796854 197.56387119 192.29232487 193.63657426 199.32614046\n",
            " 194.94079825 186.34709743 189.57361971 193.17897558 195.03244182\n",
            " 191.68909997 199.18036021 208.21419813 195.81913624 200.82805432\n",
            " 199.48730568 191.70396009 194.88955795 194.32598405 192.00163697\n",
            " 198.28396357 198.04575732 205.21111692 198.81357978 202.55415509\n",
            " 203.35031061 194.05852397 202.79271576 205.72635856 189.14313495\n",
            " 199.05793489 199.20477139 201.12978001 196.68300811 200.93881948\n",
            " 198.41204236 201.63877934 194.77668289 197.90716132 192.28393256\n",
            " 193.43479656 190.8037958  201.67780775 187.63622637 199.7237031\n",
            " 203.58387356 202.26792514 193.81758221 204.79507921 202.77957372\n",
            " 197.98725338 190.5951535  201.102455   191.56834963 195.03412932\n",
            " 202.05251289 193.61493952 191.55748259 192.65529609 191.63815341\n",
            " 194.78508102 194.99702518 203.60679854 192.63672543 197.42662906\n",
            " 191.26326831 193.11879093 199.87907264 195.53871104 199.27401397\n",
            " 194.72448278 188.85197814 193.77308713 199.67570429 203.24747266\n",
            " 194.77034702 194.07016949 196.02548542 200.5554513  187.44660225\n",
            " 180.31358923 196.08640662 199.14551126 199.90497914 190.10584955\n",
            " 197.8200131  202.29467788 194.24738704 200.75724847 189.95358771\n",
            " 192.01316331 195.75208087 196.45831012 207.35062004 188.24574137\n",
            " 196.15663665 194.94332792 194.6399348  193.29841464 195.02609196\n",
            " 190.6684828  185.86918127 195.04241152 200.06855358 199.26882776\n",
            " 196.36529688 197.57724574 197.75377574 192.43624252 196.72254079\n",
            " 197.10092139 200.95636309 195.95373125 195.49591649 194.06980995\n",
            " 194.92141999 195.44180619 198.89020417 197.65819328 195.33180161\n",
            " 199.55385845 196.93176309 193.39874514 200.42253018 197.84654113\n",
            " 204.39331679 205.83014711 190.06065191 191.47251271 195.0020439\n",
            " 201.17740319 201.32600306 203.85162833 202.14283034 197.98537636\n",
            " 197.41781878 203.68049407 193.39001736 198.28113222 194.02714274\n",
            " 192.93371286 194.72666986 186.29148368 200.81340156 194.33395134\n",
            " 186.03912886 193.49220102 197.64865464 192.32292168 197.62042549\n",
            " 203.45073024 199.89684058 200.99571161 195.13440005 198.26387007\n",
            " 204.29637933 189.80566421 196.28083112 196.36149552 196.5279056\n",
            " 194.96072439 193.46867431 197.49804083 195.61361234 192.89661448\n",
            " 200.25119644 190.25226821 200.24585005 193.07619728 190.48427543\n",
            " 196.66786719 201.77165434 192.36697082 200.98487243 199.01660474\n",
            " 185.6524802  198.51507166 205.3021767  198.71736799 196.80884247\n",
            " 199.1324137  187.89415924 191.6055096  198.2068812  189.07644181\n",
            " 199.2902973  201.08190446 193.26889457 193.29747252 194.19990194\n",
            " 197.18442897 200.14722797 192.37537059 193.52612253 196.4312742\n",
            " 195.15425177 190.92936728 195.27711088 195.46810972 193.63097054\n",
            " 210.17088793 198.87782039 195.18435732 197.29416278 192.78818235\n",
            " 202.59609174 202.78408575 195.90467517 197.50739457 181.92488479\n",
            " 197.49142973 200.61641447 189.91773116 200.99425168 199.13838181\n",
            " 196.95331211 198.9496706  193.10259829 191.05727351 196.41914108\n",
            " 191.5574277  197.00059308 198.16930957 196.72382938 195.93244521\n",
            " 193.6565616  194.29752684 207.389994   191.15119288 191.02310878\n",
            " 203.75509251 195.80290534 197.03253531 200.84269993 193.54073595\n",
            " 195.42084612 193.82783351 191.20878594 195.86223279 204.98310511\n",
            " 182.95770815 200.1672003  199.54820288 192.43369217 199.51746926\n",
            " 193.26215214 189.07066531 193.96607202 192.07064731 195.70878612\n",
            " 190.5433424  196.08382617 198.69724046 205.00267743 202.54762169\n",
            " 200.68329164 199.81029193 199.47697068 197.69100231 196.90431676\n",
            " 198.43978303 195.21726748 202.72793014 199.41288928 199.88218798\n",
            " 195.54480839 199.43434231 199.95556868 201.43778198 189.56222118\n",
            " 197.36407014 186.24524482 188.51509476 199.48660943 198.23972418\n",
            " 192.10596663 203.95867346 194.88997388 196.02580117 198.41424807\n",
            " 196.94824877 195.82996265 202.66966931 184.48608209 198.20302252\n",
            " 194.2879986  190.45326434 199.38575315 195.20597848 201.16701242\n",
            " 198.02387697 192.06988343 174.89579642 197.41171638 187.69639474\n",
            " 198.78217392 195.7278259  205.01293395 209.83631553 204.18765132\n",
            " 196.38655571 195.6425747  206.24225495 206.14466427 196.89096957\n",
            " 198.47448485 193.20292921 198.35088905 186.25855717 200.06903109\n",
            " 193.20151957 202.56873791 192.61201028 203.99077707 200.30797103\n",
            " 192.43354062 195.28514893 197.413968   190.08801551 204.69743774\n",
            " 194.51027182 198.8037248  194.87646946 196.69918647 194.22348491\n",
            " 196.49494031 194.78471832 207.81617651 198.21191919 198.45205615\n",
            " 210.23682551 198.79750169 196.96287118 188.11622702 197.22388725\n",
            " 192.95099599 192.96566301 196.46358987 198.49190922 203.41077975\n",
            " 194.75879418 208.23894131 196.71049997 191.2870552  200.69772625\n",
            " 195.85982779 199.40433103 188.47786333 192.77803531 194.21675234\n",
            " 194.68151934 192.8845485  198.24042193 197.09770766 200.79237804\n",
            " 212.44804593 203.59419712 194.71997492 193.96808332 200.27729043\n",
            " 197.80269509 197.17870117 198.02963553 196.93892488 202.26397442\n",
            " 198.71913362 200.7962365  203.54682472 190.14758408 197.03466927\n",
            " 192.70965675 192.72300479 206.03724149 190.15526036]\n"
          ]
        }
      ]
    },
    {
      "cell_type": "code",
      "source": [
        "from sklearn.metrics import  mean_squared_error\n",
        "print('MSC is:', mean_squared_error(y_test,predictions))"
      ],
      "metadata": {
        "colab": {
          "base_uri": "https://localhost:8080/"
        },
        "id": "BCy8G61PCeN_",
        "outputId": "1e1cd7ea-ebe0-4d67-83b3-deb4aee69f83"
      },
      "execution_count": 14,
      "outputs": [
        {
          "output_type": "stream",
          "name": "stdout",
          "text": [
            "MSC is: 1079.4866749287526\n"
          ]
        }
      ]
    },
    {
      "cell_type": "code",
      "source": [
        ""
      ],
      "metadata": {
        "id": "LVE_0jMxChqT"
      },
      "execution_count": null,
      "outputs": []
    }
  ]
}